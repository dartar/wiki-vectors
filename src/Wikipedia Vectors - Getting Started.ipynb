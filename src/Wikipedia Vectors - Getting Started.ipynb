{
 "cells": [
  {
   "cell_type": "markdown",
   "metadata": {},
   "source": [
    "# Wikipedia Navigation Vectors - Getting Started"
   ]
  },
  {
   "cell_type": "markdown",
   "metadata": {},
   "source": [
    "In this project, we learned embeddings for Wikipedia articles and [Wikidata](https://www.wikidata.org/wiki/Wikidata:Main_Page) items by applying [Word2vec](https://en.wikipedia.org/wiki/Word2vec) models to a corpus of reading sessions.\n",
    "\n",
    "Although Word2vec models were developed to learn word embeddings from a corpus of sentences, they can be applied to any kind of sequential data. The learned embeddings have the property that items with similar neighbors in the training corpus have similar representations (as measured by the [cosine similarity](https://en.wikipedia.org/wiki/Cosine_similarity), for example). Consequently, applying Wor2vec to reading sessions results in article embeddings, where articles that tend to be read in close succession have similar representations. Since people usually generate sequences of semantically related articles while reading, these embeddings also capture semantic similarity between articles.\n",
    "\n",
    "There have been several approaches to learning vector representations of Wikipedia articles that capture semantic similarity by using the article text or the links between articles. An advantage of training Word2vec models on reading sessions, is that they learn from the actions of millions of humans who are using a diverse array of signals, including the article text, links, third-party search engines, and their existing domain knowledge, to determine what to read next in order to learn about a topic.\n",
    "\n",
    "An additional feature of not relying on text or links, is that we can learn representations for [Wikidata Items](https://www.wikidata.org/wiki/Help:Items) by simply mapping article titles within each session to Wikidata items using [Wikidata sitelinks](https://www.wikidata.org/wiki/Help:Sitelinks). As a result, these Wikidata vectors are jointly trained over reading sessions for all Wikipedia language editions, allowing the model to learn from people across the globe. This approach also overcomes data sparsity issues for smaller Wikipedias, since the representations for articles in smaller Wikipedias are shared across many other potentially larger ones. Finally, instead of needing to generate a separate embedding for each Wikipedia in each language, we have a single model that gives a vector representation for any article in any language, provided the article has been mapped to a Wikidata item."
   ]
  },
  {
   "cell_type": "markdown",
   "metadata": {},
   "source": [
    "### A Simple Embedding Class"
   ]
  },
  {
   "cell_type": "markdown",
   "metadata": {},
   "source": [
    "The `WikiEmbedding` class takes care of loading the vector data into a matrix and exposes a method for finding the nearest neighbors of an article in the embedding."
   ]
  },
  {
   "cell_type": "code",
   "execution_count": 1,
   "metadata": {
    "collapsed": false
   },
   "outputs": [],
   "source": [
    "import numpy as np\n",
    "from sklearn.preprocessing import normalize\n",
    "import requests\n",
    "import matplotlib.pyplot as plt\n",
    "\n",
    "import warnings\n",
    "warnings.filterwarnings('ignore')\n",
    "%matplotlib inline\n",
    "%load_ext autoreload\n",
    "%autoreload 2\n",
    "\n",
    "\n",
    "class WikiEmbedding:\n",
    "\n",
    "    def __init__(self, fname):\n",
    "        \n",
    "        self.w2idx = {}\n",
    "        self.idx2w = []\n",
    "    \n",
    "        with open(fname, 'rb') as f:\n",
    "            \n",
    "            m, n = next(f).decode('utf8').strip().split(' ')\n",
    "            self.E = np.zeros((int(m), int(n)))\n",
    "\n",
    "            for i, l in enumerate(f):\n",
    "                l = l.decode('utf8').strip().split(' ')\n",
    "                w = l[0]\n",
    "                self.E[i] = np.array(l[1:])\n",
    "                self.w2idx[w] = i\n",
    "                self.idx2w.append(w)\n",
    "                \n",
    "        self.E = normalize(self.E)\n",
    "        self.idx2w = np.array(self.idx2w)\n",
    "\n",
    "    def most_similar(self, w, n=10, min_similarity=0.5):\n",
    "        \"\"\"\n",
    "        Find the top-N most similar words to w, based on cosine similarity.\n",
    "        As a speed optimization, only consider neighbors with a similarity\n",
    "        above min_similarity\n",
    "        \"\"\"\n",
    "        \n",
    "        if type(w) is str:\n",
    "            w = self.E[self.w2idx[w]]\n",
    "\n",
    "        scores = self.E.dot(w)\n",
    "        # only consider neighbors above threshold\n",
    "        min_idxs = np.where(scores > min_similarity)\n",
    "        ranking = np.argsort(-scores[min_idxs])[1:(n+1)]\n",
    "        nn_ws = self.idx2w[min_idxs][ranking]\n",
    "        nn_scores = scores[min_idxs][ranking]\n",
    "        return list(zip(list(nn_ws), list(nn_scores)))\n",
    "    "
   ]
  },
  {
   "cell_type": "markdown",
   "metadata": {},
   "source": [
    "### Exploring Nearest Neighbors"
   ]
  },
  {
   "cell_type": "markdown",
   "metadata": {},
   "source": [
    "Here we load an embedding over English Wikipedia articles trained on reading sessions in enwiki for the first week of March 2016 (Note: we will get to using Wikidata embeddings in a bit). We then show the nearest neighbors for some sample articles."
   ]
  },
  {
   "cell_type": "code",
   "execution_count": 7,
   "metadata": {
    "collapsed": false
   },
   "outputs": [],
   "source": [
    "en_embedding = WikiEmbedding('../data/2016-03-01_2016-03-07/2016-03-01_2016-03-07_en_200')"
   ]
  },
  {
   "cell_type": "code",
   "execution_count": 11,
   "metadata": {
    "collapsed": false
   },
   "outputs": [
    {
     "data": {
      "text/plain": [
       "[('Word_embedding', 0.95622320591391496),\n",
       " ('Gensim', 0.9269277744544846),\n",
       " ('Brown_clustering', 0.90669111256072077),\n",
       " ('Bag-of-words_model', 0.8997812984904453),\n",
       " ('Distributional_semantics', 0.89210129481761236),\n",
       " ('Bag-of-words_model_in_computer_vision', 0.89153302212057661),\n",
       " ('Topic_model', 0.89111001451403138),\n",
       " ('Feature_learning', 0.88864836681622683),\n",
       " ('Vector_space_model', 0.88702724731990568),\n",
       " ('Document-term_matrix', 0.88491820738885474)]"
      ]
     },
     "execution_count": 11,
     "metadata": {},
     "output_type": "execute_result"
    }
   ],
   "source": [
    "en_embedding.most_similar('Word2vec')"
   ]
  },
  {
   "cell_type": "code",
   "execution_count": 12,
   "metadata": {
    "collapsed": false
   },
   "outputs": [
    {
     "data": {
      "text/plain": [
       "[('Wiki', 0.83135166035258534),\n",
       " ('English_Wikipedia', 0.80031730995900063),\n",
       " ('Wikimedia_Foundation', 0.72032968647518936),\n",
       " ('Larry_Sanger', 0.6898701159733629),\n",
       " ('Nupedia', 0.68647996980941084),\n",
       " ('History_of_Wikipedia', 0.63363057247932586),\n",
       " ('Encyclopedia', 0.61845099080085975),\n",
       " ('Jimmy_Wales', 0.61750657289550304),\n",
       " ('Wikipedia_community', 0.58988242628270737),\n",
       " ('List_of_wikis', 0.58899013182893245)]"
      ]
     },
     "execution_count": 12,
     "metadata": {},
     "output_type": "execute_result"
    }
   ],
   "source": [
    "en_embedding.most_similar('Wikipedia')"
   ]
  },
  {
   "cell_type": "markdown",
   "metadata": {},
   "source": [
    "### Visualizing the Embedding using TSNE\n",
    "\n",
    "\n",
    "The [t-SNE](https://en.wikipedia.org/wiki/T-distributed_stochastic_neighbor_embedding) algorithm tries to take a collection of high dimensional vectors and find lower dimensional representations such that the relative distances between points stay preserved as well as possible. This allows us to visualize a part of the embedding in 2D. In the plot below you see the 2D t-SNE projection for the 20 most popular articles in the training data. (Note: The code for getting a readable scatter plot is a bit hairy, so the code has been factored out to a helper file)"
   ]
  },
  {
   "cell_type": "code",
   "execution_count": 13,
   "metadata": {
    "collapsed": false
   },
   "outputs": [],
   "source": [
    "from getting_started_helpers import get_tsne, plot_tsne"
   ]
  },
  {
   "cell_type": "code",
   "execution_count": 24,
   "metadata": {
    "collapsed": false
   },
   "outputs": [
    {
     "data": {
      "image/png": "[encoded data removed]",
      "text/plain": [
       "<matplotlib.figure.Figure at 0x149deaf98>"
      ]
     },
     "metadata": {},
     "output_type": "display_data"
    }
   ],
   "source": [
    "tsne_en_embedding = get_tsne(en_embedding, pca_dim = 10, n_words=5000)\n",
    "plot_tsne(en_embedding, tsne_en_embedding, n = 20)"
   ]
  },
  {
   "cell_type": "markdown",
   "metadata": {},
   "source": [
    "When looking at a single week of data, the most popular articles tend to be about things trending in the media. We can see that articles about similar topics and events cluster together."
   ]
  },
  {
   "cell_type": "markdown",
   "metadata": {},
   "source": [
    "### Working with Wikidata Vectors\n",
    "\n",
    "One difficulty with working with the Wikidata embedding is that item ids are hard to interpret. We can, however, use the Wikidata API to map back and forth between Wikipedia articles and Wikidata ids. Below are some helper funtions for doing the mapping."
   ]
  },
  {
   "cell_type": "code",
   "execution_count": 20,
   "metadata": {
    "collapsed": false
   },
   "outputs": [],
   "source": [
    "def items_to_titles(items, lang):\n",
    "    \"\"\"\n",
    "    Input: a list of Wikidata item ids\n",
    "    Output: a dictionary mapping from ids to title in lang\n",
    "    \n",
    "    Note: items without an articlce in lang are not included in the output\n",
    "    \"\"\"\n",
    "    lang += 'wiki'\n",
    "    payload = {'action': 'wbgetentities',\n",
    "               'props': 'sitelinks/urls',\n",
    "               'format': 'json',\n",
    "               'ids': '|'.join(items),               \n",
    "              }\n",
    "    r = requests.get('https://www.wikidata.org/w/api.php', params=payload).json()\n",
    "    \n",
    "    return parse_wikidata_sitelinks(r, lang, True)\n",
    "    \n",
    "    \n",
    "def titles_to_items(titles, lang):\n",
    "    \"\"\"\n",
    "    Input: a list of article titles in lang\n",
    "    Output: a dictionary mapping from titles in lang to Wikidata ids\n",
    "    \n",
    "    Note: articles in lang without a Wikidata id are not included in the output\n",
    "\n",
    "    \"\"\"\n",
    "    lang += 'wiki'\n",
    "    payload = {'action': 'wbgetentities',\n",
    "               'props': 'sitelinks/urls',\n",
    "               'format': 'json',\n",
    "               'sites': lang,\n",
    "               'titles': '|'.join(titles),\n",
    "              }\n",
    "    r = requests.get('https://www.wikidata.org/w/api.php', params=payload).json()\n",
    "    \n",
    "    return parse_wikidata_sitelinks(r, lang, False)\n",
    "\n",
    "\n",
    "def parse_wikidata_sitelinks(response, lang, item_to_title):\n",
    "    \"\"\"\n",
    "    Helper function for parsing sitelinks from Wikidata Api\n",
    "    \"\"\"\n",
    "    d = {}\n",
    "    if 'entities' not in response:\n",
    "        print ('No entities in reponse')\n",
    "        return d\n",
    "\n",
    "    for item, v in response['entities'].items():\n",
    "        if 'sitelinks' in v:\n",
    "            if lang in v['sitelinks']:\n",
    "                title = v['sitelinks'][lang]['title'].replace(' ', '_')\n",
    "                if item_to_title:\n",
    "                    d[item] = title\n",
    "                else:\n",
    "                    d[title] = item\n",
    "    return d"
   ]
  },
  {
   "cell_type": "markdown",
   "metadata": {},
   "source": [
    "Given these helper functions, we can now look for nearest neighbors for a Wikipedia article in any language by first mapping the article to its Wikidata item, then finding the nearest neighbors in the Wikidata embedding and finally mapping the Wikidata items back to article names."
   ]
  },
  {
   "cell_type": "code",
   "execution_count": 21,
   "metadata": {
    "collapsed": true
   },
   "outputs": [],
   "source": [
    "def most_similar(embedding, title, lang, n=10, min_similarity=0.7):\n",
    "    item = titles_to_items([title,], lang)[title]\n",
    "    nn = embedding.most_similar(item, n=n, min_similarity=min_similarity)\n",
    "    nn_items = [x[0] for x in nn]\n",
    "    nn_items_to_titles = items_to_titles(nn_items, lang)\n",
    "    return [(nn_items_to_titles[x[0]], x[1]) for x in nn if x[0] in nn_items_to_titles]    "
   ]
  },
  {
   "cell_type": "markdown",
   "metadata": {},
   "source": [
    "Lets try it out! First we load the wikidata embedding."
   ]
  },
  {
   "cell_type": "code",
   "execution_count": 17,
   "metadata": {
    "collapsed": false
   },
   "outputs": [],
   "source": [
    "wikidata_embedding = WikiEmbedding('../data/2016-03-01_2016-03-07/2016-03-01_2016-03-07_wikidata_200')"
   ]
  },
  {
   "cell_type": "markdown",
   "metadata": {},
   "source": [
    "Then we can query nearest neighbors for 'Q1', the 'Universe' Wikidata item."
   ]
  },
  {
   "cell_type": "code",
   "execution_count": 18,
   "metadata": {
    "collapsed": false
   },
   "outputs": [
    {
     "data": {
      "text/plain": [
       "[('Q229206', 0.84477422002858837),\n",
       " ('Q318', 0.81135711307867753),\n",
       " ('Q323', 0.80632248705977405),\n",
       " ('Q1059081', 0.74788564287585446),\n",
       " ('Q4169', 0.74763828248109099),\n",
       " ('Q16652009', 0.74135312707844747),\n",
       " ('Q221392', 0.74040813066583788),\n",
       " ('Q321', 0.73970201130507318),\n",
       " ('Q5646104', 0.72849855030646837),\n",
       " ('Q4113683', 0.72136321375851276)]"
      ]
     },
     "execution_count": 18,
     "metadata": {},
     "output_type": "execute_result"
    }
   ],
   "source": [
    "wikidata_embedding.most_similar('Q1')"
   ]
  },
  {
   "cell_type": "markdown",
   "metadata": {},
   "source": [
    "Or we can get query the Wikidata embedding for the nearest neighbors for enwiki 'Universe' article."
   ]
  },
  {
   "cell_type": "code",
   "execution_count": 22,
   "metadata": {
    "collapsed": false
   },
   "outputs": [
    {
     "data": {
      "text/plain": [
       "[('Universe_(disambiguation)', 0.84477422002858837),\n",
       " ('Galaxy', 0.81135711307867753),\n",
       " ('Big_Bang', 0.80632248705977405),\n",
       " ('Cosmos', 0.74788564287585446),\n",
       " ('Outer_space', 0.74763828248109099),\n",
       " ('Observable_universe', 0.74040813066583788),\n",
       " ('Milky_Way', 0.73970201130507318)]"
      ]
     },
     "execution_count": 22,
     "metadata": {},
     "output_type": "execute_result"
    }
   ],
   "source": [
    "most_similar(wikidata_embedding, 'Universe', 'en')"
   ]
  },
  {
   "cell_type": "markdown",
   "metadata": {},
   "source": [
    "As a comparison, here are the nearest neighbors for 'Universe' in the enwiki embedding, which was only trained on enwiki reading sessions. The top neighbors are pretty different."
   ]
  },
  {
   "cell_type": "code",
   "execution_count": 23,
   "metadata": {
    "collapsed": false
   },
   "outputs": [
    {
     "data": {
      "text/plain": [
       "[('Galaxy', 0.75095664705345322),\n",
       " ('Big_Bang', 0.73286463650342037),\n",
       " ('Observable_universe', 0.7147260573035995),\n",
       " ('Cosmology', 0.70745898607895163),\n",
       " ('Black_hole', 0.70578432763442023),\n",
       " ('Space', 0.70260179366002262),\n",
       " ('Dark_energy', 0.69894009721233485),\n",
       " ('Cosmos', 0.69662786946118804),\n",
       " ('Age_of_the_universe', 0.67630310625186396),\n",
       " ('History_of_the_Big_Bang_theory', 0.67207617659185392)]"
      ]
     },
     "execution_count": 23,
     "metadata": {},
     "output_type": "execute_result"
    }
   ],
   "source": [
    "en_embedding.most_similar('Universe')"
   ]
  },
  {
   "cell_type": "markdown",
   "metadata": {},
   "source": [
    "### Application Ideas\n",
    "\n",
    "Here are some ideas for how to use these embeddings to improve Wikipedia.\n",
    "\n",
    "#### Translation Recommendations\n",
    "\n",
    "We recently created a [tool](http://recommend.wmflabs.org/#Recommend) for recommending articles for translation between Wikipedias. Users choose a source language to translate from and a target language to translate to. Then they choose a seed article in the source language that represents their interests. We can find articles in the source language missing in the target language using Wikidata sitelinks, and then rank the missing articles according to the similarity between their vectors and the seed vector. \n",
    "\n",
    "#### Reading Recommendations\n",
    "The Reading Team at WMF recently introduced a \"Related Pages\" feature that gives readers 3 recommendations for further reading. The current recommendations are generated by the [More Like This Query](https://www.elastic.co/guide/en/elasticsearch/reference/current/query-dsl-mlt-query.html) feature in Elastic Search.\n",
    "\n",
    "Instead, we could generate recommendations for further reading by looking up the nearest neighbors of the current article the reader is on in an embedding. The beauty of this approach is that the nearest neighbors are by definition articles that tend to be read together. Furthermore, the Wikidata embedding would allow us to use a single model to generate recommendations across all languages!\n",
    "\n",
    "#### Link Recommendations\n",
    "If articles are frequently read within the same session, you might be able to make Wikipedia easier to navigate if you were to create a link between them. For a given article you could generate recommendations for links to add by finding the nearest neighbors that are not already linked and adding a link if the original article has a suitable anchor text. Again, the Wikidata embedding would allow you to build a model for all languages."
   ]
  }
 ],
 "metadata": {
  "kernelspec": {
   "display_name": "Python 3",
   "language": "python",
   "name": "python3"
  },
  "language_info": {
   "codemirror_mode": {
    "name": "ipython",
    "version": 3
   },
   "file_extension": ".py",
   "mimetype": "text/x-python",
   "name": "python",
   "nbconvert_exporter": "python",
   "pygments_lexer": "ipython3",
   "version": "3.5.1"
  }
 },
 "nbformat": 4,
 "nbformat_minor": 0
}
